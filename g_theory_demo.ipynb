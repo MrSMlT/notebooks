{
  "cells": [
    {
      "cell_type": "markdown",
      "metadata": {},
      "source": [
        "# Generalisability Theory Demo\n",
        "\n",
        "## 1. Create a Data Frame (Simulated Data)\n",
        "\n",
        "The dataset is based on a two-facet design (see “Two-facet p x i x o\n",
        "design” in Huebner & Lucht, 2019 for more details), with raters and\n",
        "criteria items as facets, and theories/gaps as the object of\n",
        "measurement.\n",
        "\n",
        "The initial scenario assumes that each of 3 raters evaluates 10 theories\n",
        "over 4 criteria items (on a scale of 1 to 10), resulting in a 3 x 4 x 10\n",
        "= 120-row dataset. The scores are taken from Table 3.2 of Brennan\n",
        "(2001).\n",
        "\n",
        "### Running R Code"
      ],
      "id": "4a1d50a3-bb4d-4393-b31f-8207d7bcf51f"
    },
    {
      "cell_type": "code",
      "execution_count": null,
      "metadata": {},
      "outputs": [
        {
          "output_type": "stream",
          "name": "stderr",
          "text": [
            "Loading required package: gtheory"
          ]
        },
        {
          "output_type": "stream",
          "name": "stderr",
          "text": [
            "Loading required package: lme4"
          ]
        },
        {
          "output_type": "stream",
          "name": "stderr",
          "text": [
            "Loading required package: Matrix"
          ]
        },
        {
          "output_type": "stream",
          "name": "stderr",
          "text": [
            "\n",
            "Attaching package: 'dplyr'"
          ]
        },
        {
          "output_type": "stream",
          "name": "stderr",
          "text": [
            "The following objects are masked from 'package:stats':\n",
            "\n",
            "    filter, lag"
          ]
        },
        {
          "output_type": "stream",
          "name": "stderr",
          "text": [
            "The following objects are masked from 'package:base':\n",
            "\n",
            "    intersect, setdiff, setequal, union"
          ]
        },
        {
          "output_type": "stream",
          "name": "stderr",
          "text": [
            "\n",
            "Attaching package: 'plotly'"
          ]
        },
        {
          "output_type": "stream",
          "name": "stderr",
          "text": [
            "The following object is masked from 'package:ggplot2':\n",
            "\n",
            "    last_plot"
          ]
        },
        {
          "output_type": "stream",
          "name": "stderr",
          "text": [
            "The following object is masked from 'package:stats':\n",
            "\n",
            "    filter"
          ]
        },
        {
          "output_type": "stream",
          "name": "stderr",
          "text": [
            "The following object is masked from 'package:graphics':\n",
            "\n",
            "    layout"
          ]
        },
        {
          "output_type": "stream",
          "name": "stdout",
          "text": [
            "  theory rater item score\n",
            "1      1     1    1     5\n",
            "2      2     1    1     9\n",
            "3      3     1    1     3\n",
            "4      4     1    1     7\n",
            "5      5     1    1     9\n",
            "6      6     1    1     3"
          ]
        },
        {
          "output_type": "stream",
          "name": "stdout",
          "text": [
            "    theory rater item score\n",
            "115      5     3    4     3\n",
            "116      6     3    4     2\n",
            "117      7     3    4     4\n",
            "118      8     3    4     1\n",
            "119      9     3    4     1\n",
            "120     10     3    4     1"
          ]
        }
      ],
      "source": [
        "if (!require(gtheory)) {\n",
        "  install.packages(\"gtheory\")\n",
        "}"
      ],
      "id": "d6f6556d-d105-491b-ba99-f69882810a3b"
    },
    {
      "cell_type": "markdown",
      "metadata": {},
      "source": [
        "## 2. G Study (Generalisability Study)\n",
        "\n",
        "The G study estimates the amount of error caused by each facet (source\n",
        "of error) and interaction of facets. The estimation represents the\n",
        "variance expected if we were to sample one rater/item from the universe\n",
        "admissible/available raters/items. This provides building blocks for the\n",
        "D study."
      ],
      "id": "e40261e9-1870-4d60-8bb3-7b9b0311d9f2"
    },
    {
      "cell_type": "code",
      "execution_count": null,
      "metadata": {},
      "outputs": [
        {
          "output_type": "stream",
          "name": "stderr",
          "text": [
            "boundary (singular) fit: see help('isSingular')"
          ]
        },
        {
          "output_type": "stream",
          "name": "stdout",
          "text": [
            "        source       var percent n\n",
            "1  theory:item 0.4415520    10.0 1\n",
            "2 theory:rater 0.0000000     0.0 1\n",
            "3   rater:item 0.4538083    10.3 1\n",
            "4       theory 0.5454735    12.3 1\n",
            "5         item 0.3299985     7.5 1\n",
            "6        rater 0.2202742     5.0 1\n",
            "7     Residual 2.4259318    54.9 1"
          ]
        }
      ],
      "source": [
        "# One-facet design:\n",
        "# Facets: raters\n",
        "# g_study_formula <- score ~ (1 | theory) + (1 | rater)\n",
        "\n",
        "# Two-facet design: includes all main effects and two-way interactions.\n",
        "# Facets: raters and items\n",
        "# Object: theories\n",
        "g_study_formula <- score ~ (1 | theory) + (1 | rater) +\n",
        "  (1 | item) + (1 | theory:rater) +\n",
        "  (1 | theory:item) + (1 | rater:item)\n",
        "\n",
        "g_study_results <- gstudy(data, g_study_formula)"
      ],
      "id": "3c6a9bc5-69ba-4a17-8666-1f0bda72fc0c"
    },
    {
      "cell_type": "markdown",
      "metadata": {},
      "source": [
        "## 3. D Study (Decision Study)\n",
        "\n",
        "The D study (re)estimates the variance components with specified numbers\n",
        "of facets. Ideally, nearly all of the measured variance will be\n",
        "attributed to the object of measurement (i.e., differences across\n",
        "theories), with only a negligible amount of variance attributed to the\n",
        "remaining facets (e.g., raters, items, and various interactions)."
      ],
      "id": "0c22bfbe-11a5-4c17-80a8-3cad043db10e"
    },
    {
      "cell_type": "code",
      "execution_count": null,
      "metadata": {},
      "outputs": [
        {
          "output_type": "stream",
          "name": "stdout",
          "text": [
            "        source        var percent  n\n",
            "1  theory:item 0.11038799    10.5  4\n",
            "2 theory:rater 0.00000000     0.0  3\n",
            "3   rater:item 0.03781736     3.6 12\n",
            "4       theory 0.54547350    51.9  1\n",
            "5         item 0.08249961     7.8  4\n",
            "6        rater 0.07342474     7.0  3\n",
            "7     Residual 0.20216098    19.2 12"
          ]
        }
      ],
      "source": [
        "# Run the D-study with the original numbers of raters and items\n",
        "d_study_results <- dstudy(g_study_results, colname.objects = \"theory\",\n",
        "                          colname.scores = \"score\", data = data)\n",
        "d <- d_study_results$components\n",
        "print(d)"
      ],
      "id": "afec300a-5717-4f1d-bbb3-056ef8473968"
    },
    {
      "cell_type": "markdown",
      "metadata": {},
      "source": [
        "Plot the percentages of variance by source:"
      ],
      "id": "ab25c616-d54f-451b-84a8-3594b0216043"
    },
    {
      "cell_type": "code",
      "execution_count": null,
      "metadata": {},
      "outputs": [],
      "source": [
        "variance_df <- data.frame(Facet = d[, \"source\"], Percent = d[, \"percent\"])\n",
        "ggplotly(ggplot(variance_df, aes(x = Facet, y = Percent)) +\n",
        "  geom_bar(stat = \"identity\", fill = \"darkturquoise\") +\n",
        "  labs(x = \"Source of Variance\",\n",
        "       y = \"Percent\") +\n",
        "  theme_minimal(),\n",
        "  tooltip = c(\"Percent\"))"
      ],
      "id": "83a388bd-9fb6-48a9-ac0f-5292f05df25a"
    },
    {
      "cell_type": "markdown",
      "metadata": {},
      "source": [
        "<a href=\"#fig-dstudy\" class=\"quarto-xref\">Figure 1</a> shows that\n",
        "differences between theories are indeed the biggest source of variation\n",
        "(51.9%), which indicates a potenially good reliability.\n",
        "\n",
        "Interactions (theory:rater, etc.) show how the effects of one facet\n",
        "depend on the levels of another. For example, theory:rater indicates how\n",
        "much the rater variance/disagreement differs across different theories.\n",
        "\n",
        "The next step is to quantify the reliability by calculating the\n",
        "generalisability coefficient ($\\varepsilon$) and dependability\n",
        "coefficient ($\\phi$) based on the estimated variance.\n",
        "\n",
        "## 4. Generalisability Coefficient and Dependability Coefficient\n",
        "\n",
        "The generalisability coefficient assesses the relative consistency or\n",
        "reliability of the relative standing of individuals. For example, it\n",
        "answers the question, “how reliably can we *rank* theories based on this\n",
        "measurement design?” A higher coefficient (closer to 1) indicates higher\n",
        "generalisability. A coefficient of 0 means none of the observed variance\n",
        "is due to true score differences (it’s all error). A coefficient of 1\n",
        "means the observed scores perfectly reflect the universe scores (no\n",
        "error in ranking individuals).\n",
        "\n",
        "The dependability coefficient is similar to the generalisability\n",
        "coefficient, but it focuses on the absolute level of scores, rather than\n",
        "just their rank - i.e., a theory’s score in relation to some absolute\n",
        "standard or cut-off value, not just their position relative to others.\n",
        "It answers the question, “How confident can we be in the *absolute\n",
        "value* of this score?” A higher coefficient (closer to 1) indicates\n",
        "greater dependability."
      ],
      "id": "ef02e710-8ba5-4aa5-a681-56f0e772f3d9"
    },
    {
      "cell_type": "code",
      "execution_count": null,
      "metadata": {},
      "outputs": [
        {
          "output_type": "stream",
          "name": "stdout",
          "text": [
            "Generalisability coefficient = "
          ]
        },
        {
          "output_type": "stream",
          "name": "stdout",
          "text": [
            "Dependability coefficient ="
          ]
        }
      ],
      "source": [
        "cat(\"Generalisability coefficient =\", d$generalizability, \"\\n\")"
      ],
      "id": "23ffaea7-2a4c-462a-b7a3-ffca240d548e"
    },
    {
      "cell_type": "markdown",
      "metadata": {},
      "source": [
        "A generalisability coefficient of 0.63 is resonably good, but could\n",
        "potentially be improved further if needed.\n",
        "\n",
        "The final step, depending on the purpose, is to predict and identify the\n",
        "optimal numbers of facets to maximise the generalisability through D\n",
        "studies.\n",
        "\n",
        "## 5. Optimisation (Optional)\n",
        "\n",
        "This optional D study explores different “designs” by changing the\n",
        "number of levels for each facet (e.g., how many raters, how many items).\n",
        "A grid search can be used to search for the optimal combinations of\n",
        "raters and items to use for achieving a desired level of reliability."
      ],
      "id": "cb28067a-181a-4eef-b52e-84a843ca822f"
    },
    {
      "cell_type": "code",
      "execution_count": null,
      "metadata": {},
      "outputs": [
        {
          "output_type": "stream",
          "name": "stdout",
          "text": [
            "# A tibble: 100 × 4\n",
            "# Rowwise: \n",
            "   n_raters n_items epsilon   phi\n",
            "      <int>   <int>   <dbl> <dbl>\n",
            " 1        1       1   0.160 0.123\n",
            " 2        2       1   0.248 0.190\n",
            " 3        3       1   0.304 0.232\n",
            " 4        4       1   0.342 0.261\n",
            " 5        5       1   0.371 0.282\n",
            " 6        6       1   0.392 0.297\n",
            " 7        7       1   0.409 0.310\n",
            " 8        8       1   0.423 0.320\n",
            " 9        9       1   0.434 0.328\n",
            "10       10       1   0.444 0.335\n",
            "# ℹ 90 more rows"
          ]
        }
      ],
      "source": [
        "# Define a range of possible numbers of raters and items as alternatives\n",
        "n_raters_range <- 1:10\n",
        "n_items_range <- 1:10\n",
        "\n",
        "# Generate combinations of n_raters_range and n_items_range\n",
        "n_grid <- expand.grid(n_raters = n_raters_range,\n",
        "                      n_items = n_items_range)\n",
        "\n",
        "# Define function: Calculate generalisability coefficient\n",
        "calculate_epsilon <- function(g_study_results, n_raters, n_items) {\n",
        "  g <- g_study_results\n",
        "  var_t <- g$var[g$source == \"theory\"]\n",
        "  var_r <- g$var[g$source == \"rater\"]\n",
        "  var_i <- g$var[g$source == \"item\"]\n",
        "  var_tr <- g$var[g$source == \"theory:rater\"]\n",
        "  var_ti <- g$var[g$source == \"theory:item\"]\n",
        "  var_ri <- g$var[g$source == \"rater:item\"]\n",
        "  var_resid <- g$var[g$source == \"Residual\"]\n",
        "  if ((n_items | n_raters) == 0) {\n",
        "    return(0)\n",
        "  } else {\n",
        "    # Relative error variance\n",
        "    var_rel_error <- (var_tr / n_raters) + (var_ti / n_items) +\n",
        "      (var_resid / (n_raters * n_items))\n",
        "    epsilon <- var_t / (var_t + var_rel_error)\n",
        "  }\n",
        "}\n",
        "\n",
        "# Define function: Calculate dependability coefficient\n",
        "calculate_phi <- function(g_study_results, n_raters, n_items) {\n",
        "  g <- g_study_results\n",
        "  var_t <- g$var[g$source == \"theory\"]\n",
        "  var_r <- g$var[g$source == \"rater\"]\n",
        "  var_i <- g$var[g$source == \"item\"]\n",
        "  var_tr <- g$var[g$source == \"theory:rater\"]\n",
        "  var_ti <- g$var[g$source == \"theory:item\"]\n",
        "  var_ri <- g$var[g$source == \"rater:item\"]\n",
        "  var_resid <- g$var[g$source == \"Residual\"]\n",
        "  if ((n_items | n_raters) == 0) {\n",
        "    return(0)\n",
        "  } else {\n",
        "    # Absolute error variance\n",
        "    var_abs_error <- (var_r / n_raters) + (var_i / n_items) +\n",
        "      (var_tr / n_raters) + (var_ti / n_items) +\n",
        "      (var_ri / (n_raters * n_items)) +\n",
        "      (var_resid / (n_raters * n_items))\n",
        "    phi <- var_t / (var_t + var_abs_error)\n",
        "  }\n",
        "}\n",
        "\n",
        "# Calculate epsilon and phi for each combination\n",
        "results <- n_grid %>%\n",
        "  rowwise() %>%\n",
        "  mutate(epsilon = calculate_epsilon(g, n_raters, n_items),\n",
        "         phi = calculate_phi(g, n_raters, n_items))\n",
        "\n",
        "print(results)"
      ],
      "id": "78062eb2-45c0-495d-9c5d-afe46df214ed"
    },
    {
      "cell_type": "markdown",
      "metadata": {},
      "source": [
        "Plot epsilon variation on a heatmap:"
      ],
      "id": "19224286-b461-4d2c-be5b-2994bc3f5658"
    },
    {
      "cell_type": "code",
      "execution_count": null,
      "metadata": {},
      "outputs": [],
      "source": [
        "plot_epsilon <- ggplot(results, \n",
        "                       aes(x = n_raters, y = n_items,\n",
        "                                    fill = epsilon)) + \n",
        "  geom_tile() +\n",
        "  scale_fill_viridis_c() +\n",
        "  labs(x = \"Number of Raters\",\n",
        "       y = \"Number of Items\",\n",
        "       fill = \"epsilon\") +\n",
        "  theme_bw()\n",
        "\n",
        "plotly_epsilon <- ggplotly(plot_epsilon, \n",
        "                           tooltip = c(\"n_raters\", \"n_items\", \"epsilon\"))\n",
        "\n",
        "plotly_epsilon"
      ],
      "id": "129cb146-24a1-43cf-bdf1-d932c55850ef"
    },
    {
      "cell_type": "markdown",
      "metadata": {},
      "source": [
        "And finally, plot phi variation on a heatmap:"
      ],
      "id": "c12e50ba-757e-4478-91bf-8dff4baa28ef"
    },
    {
      "cell_type": "code",
      "execution_count": null,
      "metadata": {},
      "outputs": [],
      "source": [
        "plot_phi <- ggplot(results, \n",
        "                   aes(x = n_raters, y = n_items, fill = phi)) +\n",
        "  geom_tile() +\n",
        "  scale_fill_viridis_c(option = \"magma\") +\n",
        "  labs(x = \"Number of Raters\",\n",
        "       y = \"Number of Items\",\n",
        "       fill = \"phi\") +\n",
        "  theme_bw()\n",
        "\n",
        "plotly_phi <- ggplotly(plot_phi, \n",
        "                       tooltip = c(\"n_raters\", \"n_items\", \"phi\"))\n",
        "\n",
        "plotly_phi"
      ],
      "id": "7037a1aa-fa3d-4548-9a26-84398fa312d4"
    },
    {
      "cell_type": "markdown",
      "metadata": {},
      "source": [
        "<a href=\"#fig-plotly_epsilon\" class=\"quarto-xref\">Figure 2</a> and\n",
        "<a href=\"#fig-plotly_phi\" class=\"quarto-xref\">Figure 3</a> show that it\n",
        "could potentially achieve a generalisability coefficient \\> 0.8 by\n",
        "increasing raters and/or items, e.g., with combinations such as \\[3\n",
        "raters, 10 items\\], \\[5 raters, 7 items\\] or \\[10 raters, 6 items\\],\n",
        "assuming variance components remain unchanged.\n",
        "\n",
        "### References\n",
        "\n",
        "Brennan, R. L. (2001). *Generalizability Theory*. Springer New York.\n",
        "<https://doi.org/10.1007/978-1-4757-3456-0>\n",
        "\n",
        "Huebner, A., & Lucht, M. (2019). Generalizability theory in r.\n",
        "*University of Massachusetts Amherst*.\n",
        "<https://doi.org/10.7275/5065-GC10>"
      ],
      "id": "e6d63dbd-2bea-4263-b108-96afdeb12af2"
    }
  ],
  "nbformat": 4,
  "nbformat_minor": 5,
  "metadata": {
    "kernelspec": {
      "display_name": "Python 3",
      "language": "python",
      "name": "python3"
    }
  }
}